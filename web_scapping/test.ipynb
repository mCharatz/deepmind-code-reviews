{
 "cells": [
  {
   "cell_type": "code",
   "execution_count": null,
   "metadata": {
    "collapsed": true
   },
   "outputs": [],
   "source": [
    "from models import *"
   ]
  },
  {
   "cell_type": "code",
   "execution_count": null,
   "outputs": [],
   "source": [
    "attractions_url = \"https://www.tripadvisor.com/Attractions-g189473-Activities-a_allAttractions.true-Thessaloniki_Thessaloniki_Region_Central_Macedonia.html\"\n",
    "\n",
    "tours_url = \"https://www.tripadvisor.com/Attractions-g189473-Activities-c42-Thessaloniki_Thessaloniki_Region_Central_Macedonia.html\"\n",
    "\n",
    "day_trips_url = \"https://www.tripadvisor.com/Attractions-g189473-Activities-c63-Thessaloniki_Thessaloniki_Region_Central_Macedonia.html\"\n",
    "\n",
    "outdoor_activities_url = \"https://www.tripadvisor.com/Attractions-g189473-Activities-c61-Thessaloniki_Thessaloniki_Region_Central_Macedonia.html\"\n",
    "\n",
    "concerts_shows_url = \"https://www.tripadvisor.com/Attractions-g189473-Activities-c58-Thessaloniki_Thessaloniki_Region_Central_Macedonia.html\"\n",
    "\n",
    "food_and_drink_url = \"https://www.tripadvisor.com/Attractions-g189473-Activities-c36-Thessaloniki_Thessaloniki_Region_Central_Macedonia.html\"\n",
    "\n",
    "events_url = \"https://www.tripadvisor.com/Attractions-g189473-Activities-c62-Thessaloniki_Thessaloniki_Region_Central_Macedonia.html\"\n",
    "\n",
    "classes_and_workshops_url = \"https://www.tripadvisor.com/Attractions-g189473-Activities-c41-Thessaloniki_Thessaloniki_Region_Central_Macedonia.html\"\n",
    "\n",
    "shopping_url = \"https://www.tripadvisor.com/Attractions-g189473-Activities-c26-Thessaloniki_Thessaloniki_Region_Central_Macedonia.html\"\n",
    "\n",
    "transportation_url = \"https://www.tripadvisor.com/Attractions-g189473-Activities-c59-Thessaloniki_Thessaloniki_Region_Central_Macedonia.html\"\n",
    "\n",
    "traveler_resources_url = \"https://www.tripadvisor.com/Attractions-g189473-Activities-c60-Thessaloniki_Thessaloniki_Region_Central_Macedonia.html\"\n",
    "\n",
    "\n",
    "# setup TripAdvisorMongoClient and TripAdvisorWebScrapper\n",
    "client = TripAdvisorMongoClient(\n",
    "    connection_string=\"mongodb://localhost:27017\",\n",
    "    database=\"local\",\n",
    "    collection=\"reviews\",\n",
    ")\n",
    "scraper = TripAdvisorWebScrapper(trip_advisor_mongo_client=client)\n",
    "\n",
    "# scarp all businesses\n",
    "scraper.get_and_store_businesses(attractions_url)\n",
    "scraper.get_and_store_businesses(tours_url)\n",
    "scraper.get_and_store_businesses(day_trips_url)\n",
    "scraper.get_and_store_businesses(outdoor_activities_url)\n",
    "scraper.get_and_store_businesses(concerts_shows_url)\n",
    "scraper.get_and_store_businesses(food_and_drink_url)\n",
    "scraper.get_and_store_businesses(events_url)\n",
    "scraper.get_and_store_businesses(classes_and_workshops_url)\n",
    "scraper.get_and_store_businesses(shopping_url)\n",
    "scraper.get_and_store_businesses(transportation_url)\n",
    "scraper.get_and_store_businesses(traveler_resources_url)\n",
    "\n",
    "#now mongo is loaded with all businesses, now we will scarp the reviews of each business\n",
    "\n",
    "# retrieve all businesses stored in mongo (list[dict])\n",
    "businesses = scraper.trip_advisor_mongo_client.get_businesses()\n",
    "\n",
    "scraper.get_and_store_reviews(businesses)\n",
    "\n"
   ],
   "metadata": {
    "collapsed": false
   }
  }
 ],
 "metadata": {
  "kernelspec": {
   "display_name": "Python 3",
   "language": "python",
   "name": "python3"
  },
  "language_info": {
   "codemirror_mode": {
    "name": "ipython",
    "version": 2
   },
   "file_extension": ".py",
   "mimetype": "text/x-python",
   "name": "python",
   "nbconvert_exporter": "python",
   "pygments_lexer": "ipython2",
   "version": "2.7.6"
  }
 },
 "nbformat": 4,
 "nbformat_minor": 0
}
